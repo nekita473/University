{
 "cells": [
  {
   "cell_type": "code",
   "execution_count": 40,
   "metadata": {},
   "outputs": [],
   "source": [
    "import pandas as pd\n",
    "import matplotlib.pyplot as plt"
   ]
  },
  {
   "cell_type": "code",
   "execution_count": 2,
   "metadata": {},
   "outputs": [],
   "source": [
    "work = pd.read_csv('work.csv')"
   ]
  },
  {
   "cell_type": "code",
   "execution_count": 3,
   "metadata": {},
   "outputs": [],
   "source": [
    "unwork = pd.read_csv('unwork.csv')"
   ]
  },
  {
   "cell_type": "code",
   "execution_count": 4,
   "metadata": {},
   "outputs": [],
   "source": [
    "GDP = pd.read_csv('GDP.csv')"
   ]
  },
  {
   "cell_type": "code",
   "execution_count": 5,
   "metadata": {},
   "outputs": [],
   "source": [
    "people = pd.read_csv('people.csv')"
   ]
  },
  {
   "cell_type": "code",
   "execution_count": 11,
   "metadata": {},
   "outputs": [],
   "source": [
    "result = pd.merge(pd.merge(pd.merge(work, unwork), GDP), people)"
   ]
  },
  {
   "cell_type": "code",
   "execution_count": 13,
   "metadata": {},
   "outputs": [
    {
     "data": {
      "text/html": [
       "<div>\n",
       "<style scoped>\n",
       "    .dataframe tbody tr th:only-of-type {\n",
       "        vertical-align: middle;\n",
       "    }\n",
       "\n",
       "    .dataframe tbody tr th {\n",
       "        vertical-align: top;\n",
       "    }\n",
       "\n",
       "    .dataframe thead th {\n",
       "        text-align: right;\n",
       "    }\n",
       "</style>\n",
       "<table border=\"1\" class=\"dataframe\">\n",
       "  <thead>\n",
       "    <tr style=\"text-align: right;\">\n",
       "      <th></th>\n",
       "      <th>Страна</th>\n",
       "      <th>Производительность труда</th>\n",
       "      <th>Уровень безработицы</th>\n",
       "      <th>ВВП</th>\n",
       "      <th>Население</th>\n",
       "    </tr>\n",
       "  </thead>\n",
       "  <tbody>\n",
       "    <tr>\n",
       "      <td>0</td>\n",
       "      <td>Норвегия</td>\n",
       "      <td>75.08</td>\n",
       "      <td>3.60.</td>\n",
       "      <td>288619</td>\n",
       "      <td>4722701</td>\n",
       "    </tr>\n",
       "    <tr>\n",
       "      <td>1</td>\n",
       "      <td>Люксембург</td>\n",
       "      <td>73.22</td>\n",
       "      <td>4.90.</td>\n",
       "      <td>46846</td>\n",
       "      <td>514862</td>\n",
       "    </tr>\n",
       "    <tr>\n",
       "      <td>2</td>\n",
       "      <td>США</td>\n",
       "      <td>67.32</td>\n",
       "      <td>7.30.</td>\n",
       "      <td>16237746</td>\n",
       "      <td>316668567</td>\n",
       "    </tr>\n",
       "    <tr>\n",
       "      <td>3</td>\n",
       "      <td>Бельгия</td>\n",
       "      <td>60.98</td>\n",
       "      <td>8.80.</td>\n",
       "      <td>427883</td>\n",
       "      <td>10444268</td>\n",
       "    </tr>\n",
       "    <tr>\n",
       "      <td>4</td>\n",
       "      <td>Нидерланды</td>\n",
       "      <td>60.06</td>\n",
       "      <td>6.80.</td>\n",
       "      <td>714741</td>\n",
       "      <td>16805037</td>\n",
       "    </tr>\n",
       "    <tr>\n",
       "      <td>5</td>\n",
       "      <td>Германия</td>\n",
       "      <td>57.36</td>\n",
       "      <td>5.30.</td>\n",
       "      <td>3269562</td>\n",
       "      <td>81147265</td>\n",
       "    </tr>\n",
       "    <tr>\n",
       "      <td>6</td>\n",
       "      <td>Ирландия</td>\n",
       "      <td>56.05</td>\n",
       "      <td>13.50.</td>\n",
       "      <td>190890</td>\n",
       "      <td>4775982</td>\n",
       "    </tr>\n",
       "    <tr>\n",
       "      <td>7</td>\n",
       "      <td>Австралия</td>\n",
       "      <td>55.87</td>\n",
       "      <td>5.70.</td>\n",
       "      <td>1015943</td>\n",
       "      <td>22262501</td>\n",
       "    </tr>\n",
       "    <tr>\n",
       "      <td>8</td>\n",
       "      <td>Дания</td>\n",
       "      <td>55.75</td>\n",
       "      <td>6.00.</td>\n",
       "      <td>219563</td>\n",
       "      <td>5556452</td>\n",
       "    </tr>\n",
       "    <tr>\n",
       "      <td>9</td>\n",
       "      <td>Швеция</td>\n",
       "      <td>55.28</td>\n",
       "      <td>8.10.</td>\n",
       "      <td>403433</td>\n",
       "      <td>9119423</td>\n",
       "    </tr>\n",
       "    <tr>\n",
       "      <td>10</td>\n",
       "      <td>Австрия</td>\n",
       "      <td>54.83</td>\n",
       "      <td>4.90.</td>\n",
       "      <td>367751</td>\n",
       "      <td>8221646</td>\n",
       "    </tr>\n",
       "    <tr>\n",
       "      <td>11</td>\n",
       "      <td>Великобритания</td>\n",
       "      <td>51.38</td>\n",
       "      <td>7.70.</td>\n",
       "      <td>2391042</td>\n",
       "      <td>63395574</td>\n",
       "    </tr>\n",
       "    <tr>\n",
       "      <td>12</td>\n",
       "      <td>Канада</td>\n",
       "      <td>50.29</td>\n",
       "      <td>7.10.</td>\n",
       "      <td>1534937</td>\n",
       "      <td>34568211</td>\n",
       "    </tr>\n",
       "    <tr>\n",
       "      <td>13</td>\n",
       "      <td>Исландия</td>\n",
       "      <td>50.01</td>\n",
       "      <td>4.50.</td>\n",
       "      <td>13349</td>\n",
       "      <td>315281</td>\n",
       "    </tr>\n",
       "    <tr>\n",
       "      <td>14</td>\n",
       "      <td>Швейцария</td>\n",
       "      <td>49.88</td>\n",
       "      <td>2.90.</td>\n",
       "      <td>374111</td>\n",
       "      <td>7996026</td>\n",
       "    </tr>\n",
       "    <tr>\n",
       "      <td>15</td>\n",
       "      <td>Испания</td>\n",
       "      <td>49.59</td>\n",
       "      <td>26.30.</td>\n",
       "      <td>1411493</td>\n",
       "      <td>47370542</td>\n",
       "    </tr>\n",
       "    <tr>\n",
       "      <td>16</td>\n",
       "      <td>Финляндия</td>\n",
       "      <td>48.79</td>\n",
       "      <td>8.10.</td>\n",
       "      <td>210507</td>\n",
       "      <td>5266114</td>\n",
       "    </tr>\n",
       "    <tr>\n",
       "      <td>17</td>\n",
       "      <td>Италия</td>\n",
       "      <td>45.04</td>\n",
       "      <td>12.40.</td>\n",
       "      <td>1835657</td>\n",
       "      <td>61482297</td>\n",
       "    </tr>\n",
       "    <tr>\n",
       "      <td>18</td>\n",
       "      <td>Япония</td>\n",
       "      <td>43.77</td>\n",
       "      <td>4.10.</td>\n",
       "      <td>4778523</td>\n",
       "      <td>127253075</td>\n",
       "    </tr>\n",
       "    <tr>\n",
       "      <td>19</td>\n",
       "      <td>Сингапур</td>\n",
       "      <td>41.46</td>\n",
       "      <td>2.10.</td>\n",
       "      <td>338551</td>\n",
       "      <td>5460302</td>\n",
       "    </tr>\n",
       "    <tr>\n",
       "      <td>20</td>\n",
       "      <td>Гонконг</td>\n",
       "      <td>41.30</td>\n",
       "      <td>3.10.</td>\n",
       "      <td>386558</td>\n",
       "      <td>7182724</td>\n",
       "    </tr>\n",
       "    <tr>\n",
       "      <td>21</td>\n",
       "      <td>Тайвань</td>\n",
       "      <td>39.97</td>\n",
       "      <td>4.10.</td>\n",
       "      <td>945479</td>\n",
       "      <td>23299716</td>\n",
       "    </tr>\n",
       "    <tr>\n",
       "      <td>22</td>\n",
       "      <td>Словения</td>\n",
       "      <td>39.78</td>\n",
       "      <td>12.40.</td>\n",
       "      <td>62649</td>\n",
       "      <td>1992690</td>\n",
       "    </tr>\n",
       "    <tr>\n",
       "      <td>23</td>\n",
       "      <td>Израиль</td>\n",
       "      <td>38.99</td>\n",
       "      <td>6.80.</td>\n",
       "      <td>257817</td>\n",
       "      <td>7707042</td>\n",
       "    </tr>\n",
       "    <tr>\n",
       "      <td>24</td>\n",
       "      <td>Новая Зеландия</td>\n",
       "      <td>36.83</td>\n",
       "      <td>6.40.</td>\n",
       "      <td>134472</td>\n",
       "      <td>4365113</td>\n",
       "    </tr>\n",
       "    <tr>\n",
       "      <td>25</td>\n",
       "      <td>Мальта</td>\n",
       "      <td>36.02</td>\n",
       "      <td>6.40.</td>\n",
       "      <td>11583</td>\n",
       "      <td>411277</td>\n",
       "    </tr>\n",
       "    <tr>\n",
       "      <td>26</td>\n",
       "      <td>Греция</td>\n",
       "      <td>32.77</td>\n",
       "      <td>27.90.</td>\n",
       "      <td>288375</td>\n",
       "      <td>10772967</td>\n",
       "    </tr>\n",
       "    <tr>\n",
       "      <td>27</td>\n",
       "      <td>Южная Корея</td>\n",
       "      <td>32.31</td>\n",
       "      <td>3.20.</td>\n",
       "      <td>1687138</td>\n",
       "      <td>48955203</td>\n",
       "    </tr>\n",
       "    <tr>\n",
       "      <td>28</td>\n",
       "      <td>Чехия</td>\n",
       "      <td>31.23</td>\n",
       "      <td>7.10.</td>\n",
       "      <td>299372</td>\n",
       "      <td>10162921</td>\n",
       "    </tr>\n",
       "    <tr>\n",
       "      <td>29</td>\n",
       "      <td>Кипр</td>\n",
       "      <td>31.18</td>\n",
       "      <td>17.40.</td>\n",
       "      <td>24893</td>\n",
       "      <td>1155403</td>\n",
       "    </tr>\n",
       "    <tr>\n",
       "      <td>30</td>\n",
       "      <td>Литва</td>\n",
       "      <td>27.53</td>\n",
       "      <td>12.40.</td>\n",
       "      <td>66923</td>\n",
       "      <td>3515858</td>\n",
       "    </tr>\n",
       "    <tr>\n",
       "      <td>31</td>\n",
       "      <td>Португалия</td>\n",
       "      <td>27.23</td>\n",
       "      <td>16.80.</td>\n",
       "      <td>248521</td>\n",
       "      <td>10799270</td>\n",
       "    </tr>\n",
       "    <tr>\n",
       "      <td>32</td>\n",
       "      <td>Польша</td>\n",
       "      <td>25.81</td>\n",
       "      <td>13.50.</td>\n",
       "      <td>824783</td>\n",
       "      <td>38383809</td>\n",
       "    </tr>\n",
       "    <tr>\n",
       "      <td>33</td>\n",
       "      <td>Венгрия</td>\n",
       "      <td>24.37</td>\n",
       "      <td>10.50.</td>\n",
       "      <td>204781</td>\n",
       "      <td>9939470</td>\n",
       "    </tr>\n",
       "    <tr>\n",
       "      <td>34</td>\n",
       "      <td>Эстония</td>\n",
       "      <td>23.50</td>\n",
       "      <td>10.90.</td>\n",
       "      <td>29693</td>\n",
       "      <td>1266375</td>\n",
       "    </tr>\n",
       "    <tr>\n",
       "      <td>35</td>\n",
       "      <td>Турция</td>\n",
       "      <td>22.83</td>\n",
       "      <td>9.30.</td>\n",
       "      <td>1181012</td>\n",
       "      <td>80694485</td>\n",
       "    </tr>\n",
       "    <tr>\n",
       "      <td>36</td>\n",
       "      <td>Латвия</td>\n",
       "      <td>21.15</td>\n",
       "      <td>9.80.</td>\n",
       "      <td>37710</td>\n",
       "      <td>2178443</td>\n",
       "    </tr>\n",
       "    <tr>\n",
       "      <td>37</td>\n",
       "      <td>Россия</td>\n",
       "      <td>19.70</td>\n",
       "      <td>5.80.</td>\n",
       "      <td>2640737</td>\n",
       "      <td>142500482</td>\n",
       "    </tr>\n",
       "    <tr>\n",
       "      <td>38</td>\n",
       "      <td>Уругвай</td>\n",
       "      <td>18.16</td>\n",
       "      <td>6.50.</td>\n",
       "      <td>57436</td>\n",
       "      <td>3324460</td>\n",
       "    </tr>\n",
       "    <tr>\n",
       "      <td>39</td>\n",
       "      <td>Коста-Рика</td>\n",
       "      <td>17.81</td>\n",
       "      <td>7.90.</td>\n",
       "      <td>60260</td>\n",
       "      <td>4695942</td>\n",
       "    </tr>\n",
       "    <tr>\n",
       "      <td>40</td>\n",
       "      <td>Болгария</td>\n",
       "      <td>16.48</td>\n",
       "      <td>11.60.</td>\n",
       "      <td>110401</td>\n",
       "      <td>6981642</td>\n",
       "    </tr>\n",
       "    <tr>\n",
       "      <td>41</td>\n",
       "      <td>Мексика</td>\n",
       "      <td>16.23</td>\n",
       "      <td>4.90.</td>\n",
       "      <td>1848416</td>\n",
       "      <td>116220947</td>\n",
       "    </tr>\n",
       "    <tr>\n",
       "      <td>42</td>\n",
       "      <td>Румыния</td>\n",
       "      <td>15.46</td>\n",
       "      <td>4.80.</td>\n",
       "      <td>282348</td>\n",
       "      <td>21790479</td>\n",
       "    </tr>\n",
       "    <tr>\n",
       "      <td>43</td>\n",
       "      <td>Венесуэла</td>\n",
       "      <td>15.05</td>\n",
       "      <td>7.90.</td>\n",
       "      <td>408805</td>\n",
       "      <td>28459085</td>\n",
       "    </tr>\n",
       "    <tr>\n",
       "      <td>44</td>\n",
       "      <td>Аргентина</td>\n",
       "      <td>13.84</td>\n",
       "      <td>7.50.</td>\n",
       "      <td>776284</td>\n",
       "      <td>42610981</td>\n",
       "    </tr>\n",
       "    <tr>\n",
       "      <td>45</td>\n",
       "      <td>Эквадор</td>\n",
       "      <td>13.81</td>\n",
       "      <td>4.90.</td>\n",
       "      <td>136523</td>\n",
       "      <td>15439429</td>\n",
       "    </tr>\n",
       "    <tr>\n",
       "      <td>46</td>\n",
       "      <td>Ямайка</td>\n",
       "      <td>12.95</td>\n",
       "      <td>16.30.</td>\n",
       "      <td>26114</td>\n",
       "      <td>2909714</td>\n",
       "    </tr>\n",
       "    <tr>\n",
       "      <td>47</td>\n",
       "      <td>Колумбия</td>\n",
       "      <td>11.26</td>\n",
       "      <td>9.70.</td>\n",
       "      <td>532063</td>\n",
       "      <td>45745783</td>\n",
       "    </tr>\n",
       "    <tr>\n",
       "      <td>48</td>\n",
       "      <td>Перу</td>\n",
       "      <td>10.99</td>\n",
       "      <td>3.60.</td>\n",
       "      <td>352875</td>\n",
       "      <td>29849303</td>\n",
       "    </tr>\n",
       "    <tr>\n",
       "      <td>49</td>\n",
       "      <td>Бразилия</td>\n",
       "      <td>10.78</td>\n",
       "      <td>5.70.</td>\n",
       "      <td>2466567</td>\n",
       "      <td>201009622</td>\n",
       "    </tr>\n",
       "    <tr>\n",
       "      <td>50</td>\n",
       "      <td>Таиланд</td>\n",
       "      <td>8.54</td>\n",
       "      <td>0.80.</td>\n",
       "      <td>701554</td>\n",
       "      <td>67448120</td>\n",
       "    </tr>\n",
       "    <tr>\n",
       "      <td>51</td>\n",
       "      <td>Индия</td>\n",
       "      <td>3.40</td>\n",
       "      <td>8.80.</td>\n",
       "      <td>5031678</td>\n",
       "      <td>1220800359</td>\n",
       "    </tr>\n",
       "    <tr>\n",
       "      <td>52</td>\n",
       "      <td>Бангладеш</td>\n",
       "      <td>1.98</td>\n",
       "      <td>5.00.</td>\n",
       "      <td>329712</td>\n",
       "      <td>163654860</td>\n",
       "    </tr>\n",
       "  </tbody>\n",
       "</table>\n",
       "</div>"
      ],
      "text/plain": [
       "            Страна  Производительность труда Уровень безработицы       ВВП  \\\n",
       "0         Норвегия                     75.08               3.60.    288619   \n",
       "1       Люксембург                     73.22               4.90.     46846   \n",
       "2              США                     67.32               7.30.  16237746   \n",
       "3          Бельгия                     60.98               8.80.    427883   \n",
       "4       Нидерланды                     60.06               6.80.    714741   \n",
       "5         Германия                     57.36               5.30.   3269562   \n",
       "6         Ирландия                     56.05              13.50.    190890   \n",
       "7        Австралия                     55.87               5.70.   1015943   \n",
       "8            Дания                     55.75               6.00.    219563   \n",
       "9           Швеция                     55.28               8.10.    403433   \n",
       "10         Австрия                     54.83               4.90.    367751   \n",
       "11  Великобритания                     51.38               7.70.   2391042   \n",
       "12          Канада                     50.29               7.10.   1534937   \n",
       "13        Исландия                     50.01               4.50.     13349   \n",
       "14       Швейцария                     49.88               2.90.    374111   \n",
       "15         Испания                     49.59              26.30.   1411493   \n",
       "16       Финляндия                     48.79               8.10.    210507   \n",
       "17          Италия                     45.04              12.40.   1835657   \n",
       "18          Япония                     43.77               4.10.   4778523   \n",
       "19        Сингапур                     41.46               2.10.    338551   \n",
       "20         Гонконг                     41.30               3.10.    386558   \n",
       "21         Тайвань                     39.97               4.10.    945479   \n",
       "22        Словения                     39.78              12.40.     62649   \n",
       "23         Израиль                     38.99               6.80.    257817   \n",
       "24  Новая Зеландия                     36.83               6.40.    134472   \n",
       "25          Мальта                     36.02               6.40.     11583   \n",
       "26          Греция                     32.77              27.90.    288375   \n",
       "27     Южная Корея                     32.31               3.20.   1687138   \n",
       "28           Чехия                     31.23               7.10.    299372   \n",
       "29            Кипр                     31.18              17.40.     24893   \n",
       "30           Литва                     27.53              12.40.     66923   \n",
       "31      Португалия                     27.23              16.80.    248521   \n",
       "32          Польша                     25.81              13.50.    824783   \n",
       "33         Венгрия                     24.37              10.50.    204781   \n",
       "34         Эстония                     23.50              10.90.     29693   \n",
       "35          Турция                     22.83               9.30.   1181012   \n",
       "36          Латвия                     21.15               9.80.     37710   \n",
       "37          Россия                     19.70               5.80.   2640737   \n",
       "38         Уругвай                     18.16               6.50.     57436   \n",
       "39      Коста-Рика                     17.81               7.90.     60260   \n",
       "40        Болгария                     16.48              11.60.    110401   \n",
       "41         Мексика                     16.23               4.90.   1848416   \n",
       "42         Румыния                     15.46               4.80.    282348   \n",
       "43       Венесуэла                     15.05               7.90.    408805   \n",
       "44       Аргентина                     13.84               7.50.    776284   \n",
       "45         Эквадор                     13.81               4.90.    136523   \n",
       "46          Ямайка                     12.95              16.30.     26114   \n",
       "47        Колумбия                     11.26               9.70.    532063   \n",
       "48            Перу                     10.99               3.60.    352875   \n",
       "49        Бразилия                     10.78               5.70.   2466567   \n",
       "50         Таиланд                      8.54               0.80.    701554   \n",
       "51           Индия                      3.40               8.80.   5031678   \n",
       "52       Бангладеш                      1.98               5.00.    329712   \n",
       "\n",
       "     Население  \n",
       "0      4722701  \n",
       "1       514862  \n",
       "2    316668567  \n",
       "3     10444268  \n",
       "4     16805037  \n",
       "5     81147265  \n",
       "6      4775982  \n",
       "7     22262501  \n",
       "8      5556452  \n",
       "9      9119423  \n",
       "10     8221646  \n",
       "11    63395574  \n",
       "12    34568211  \n",
       "13      315281  \n",
       "14     7996026  \n",
       "15    47370542  \n",
       "16     5266114  \n",
       "17    61482297  \n",
       "18   127253075  \n",
       "19     5460302  \n",
       "20     7182724  \n",
       "21    23299716  \n",
       "22     1992690  \n",
       "23     7707042  \n",
       "24     4365113  \n",
       "25      411277  \n",
       "26    10772967  \n",
       "27    48955203  \n",
       "28    10162921  \n",
       "29     1155403  \n",
       "30     3515858  \n",
       "31    10799270  \n",
       "32    38383809  \n",
       "33     9939470  \n",
       "34     1266375  \n",
       "35    80694485  \n",
       "36     2178443  \n",
       "37   142500482  \n",
       "38     3324460  \n",
       "39     4695942  \n",
       "40     6981642  \n",
       "41   116220947  \n",
       "42    21790479  \n",
       "43    28459085  \n",
       "44    42610981  \n",
       "45    15439429  \n",
       "46     2909714  \n",
       "47    45745783  \n",
       "48    29849303  \n",
       "49   201009622  \n",
       "50    67448120  \n",
       "51  1220800359  \n",
       "52   163654860  "
      ]
     },
     "execution_count": 13,
     "metadata": {},
     "output_type": "execute_result"
    }
   ],
   "source": [
    "result # Используются данные по странам только за 2013 год, т.к. их тяжело найти"
   ]
  },
  {
   "cell_type": "code",
   "execution_count": 57,
   "metadata": {},
   "outputs": [],
   "source": [
    "help_list = []"
   ]
  },
  {
   "cell_type": "code",
   "execution_count": 58,
   "metadata": {},
   "outputs": [],
   "source": [
    "for i in result['Уровень безработицы']:\n",
    "    help_list.append(float(i[:-1]))"
   ]
  },
  {
   "cell_type": "code",
   "execution_count": 60,
   "metadata": {},
   "outputs": [],
   "source": [
    "result['Уровень безработицы'] = help_list"
   ]
  },
  {
   "cell_type": "code",
   "execution_count": 64,
   "metadata": {},
   "outputs": [],
   "source": [
    "from sklearn.model_selection import train_test_split"
   ]
  },
  {
   "cell_type": "code",
   "execution_count": 65,
   "metadata": {},
   "outputs": [],
   "source": [
    "train_data, test_data = train_test_split(result, test_size=0.2)"
   ]
  },
  {
   "cell_type": "code",
   "execution_count": 66,
   "metadata": {},
   "outputs": [],
   "source": [
    "y = train_data['ВВП'].to_numpy().reshape(-1, 1)"
   ]
  },
  {
   "cell_type": "code",
   "execution_count": 67,
   "metadata": {},
   "outputs": [],
   "source": [
    "work = train_data['Производительность труда'].to_numpy().reshape(-1, 1)"
   ]
  },
  {
   "cell_type": "code",
   "execution_count": 68,
   "metadata": {},
   "outputs": [],
   "source": [
    "from sklearn.linear_model import LinearRegression"
   ]
  },
  {
   "cell_type": "code",
   "execution_count": 69,
   "metadata": {},
   "outputs": [],
   "source": [
    "model = LinearRegression()"
   ]
  },
  {
   "cell_type": "code",
   "execution_count": 70,
   "metadata": {},
   "outputs": [
    {
     "data": {
      "text/plain": [
       "LinearRegression(copy_X=True, fit_intercept=True, n_jobs=None, normalize=False)"
      ]
     },
     "execution_count": 70,
     "metadata": {},
     "output_type": "execute_result"
    }
   ],
   "source": [
    "model.fit(work, y)"
   ]
  },
  {
   "cell_type": "code",
   "execution_count": 71,
   "metadata": {},
   "outputs": [],
   "source": [
    "y_pred = model.predict(work)"
   ]
  },
  {
   "cell_type": "code",
   "execution_count": 81,
   "metadata": {},
   "outputs": [
    {
     "data": {
      "text/plain": [
       "<matplotlib.legend.Legend at 0x7f2b2cabf5d0>"
      ]
     },
     "execution_count": 81,
     "metadata": {},
     "output_type": "execute_result"
    },
    {
     "data": {
      "image/png": "[encoded data removed]",
      "text/plain": [
       "<Figure size 432x288 with 1 Axes>"
      ]
     },
     "metadata": {
      "needs_background": "light"
     },
     "output_type": "display_data"
    }
   ],
   "source": [
    "plt.plot(y, label='y')\n",
    "plt.plot(y_pred, label='y_pred')\n",
    "plt.legend()"
   ]
  },
  {
   "cell_type": "code",
   "execution_count": 76,
   "metadata": {},
   "outputs": [],
   "source": [
    "unwork = train_data['Уровень безработицы'].to_numpy().reshape(-1,1)"
   ]
  },
  {
   "cell_type": "code",
   "execution_count": 77,
   "metadata": {},
   "outputs": [],
   "source": [
    "model = LinearRegression()"
   ]
  },
  {
   "cell_type": "code",
   "execution_count": 78,
   "metadata": {},
   "outputs": [
    {
     "data": {
      "text/plain": [
       "LinearRegression(copy_X=True, fit_intercept=True, n_jobs=None, normalize=False)"
      ]
     },
     "execution_count": 78,
     "metadata": {},
     "output_type": "execute_result"
    }
   ],
   "source": [
    "model.fit(unwork, y)"
   ]
  },
  {
   "cell_type": "code",
   "execution_count": 79,
   "metadata": {},
   "outputs": [],
   "source": [
    "y_pred = model.predict(unwork)"
   ]
  },
  {
   "cell_type": "code",
   "execution_count": 80,
   "metadata": {},
   "outputs": [
    {
     "data": {
      "text/plain": [
       "<matplotlib.legend.Legend at 0x7f2b2cb81f90>"
      ]
     },
     "execution_count": 80,
     "metadata": {},
     "output_type": "execute_result"
    },
    {
     "data": {
      "image/png": "[encoded data removed]",
      "text/plain": [
       "<Figure size 432x288 with 1 Axes>"
      ]
     },
     "metadata": {
      "needs_background": "light"
     },
     "output_type": "display_data"
    }
   ],
   "source": [
    "plt.plot(y, label='y')\n",
    "plt.plot(y_pred, label='y_pred')\n",
    "plt.legend()"
   ]
  },
  {
   "cell_type": "code",
   "execution_count": 82,
   "metadata": {},
   "outputs": [],
   "source": [
    "people = train_data['Население'].to_numpy().reshape(-1,1)"
   ]
  },
  {
   "cell_type": "code",
   "execution_count": 83,
   "metadata": {},
   "outputs": [],
   "source": [
    "model = LinearRegression()"
   ]
  },
  {
   "cell_type": "code",
   "execution_count": 84,
   "metadata": {},
   "outputs": [
    {
     "data": {
      "text/plain": [
       "LinearRegression(copy_X=True, fit_intercept=True, n_jobs=None, normalize=False)"
      ]
     },
     "execution_count": 84,
     "metadata": {},
     "output_type": "execute_result"
    }
   ],
   "source": [
    "model.fit(people, y)"
   ]
  },
  {
   "cell_type": "code",
   "execution_count": 86,
   "metadata": {},
   "outputs": [],
   "source": [
    "y_pred = model.predict(people)"
   ]
  },
  {
   "cell_type": "code",
   "execution_count": 87,
   "metadata": {},
   "outputs": [
    {
     "data": {
      "text/plain": [
       "<matplotlib.legend.Legend at 0x7f2b2cab3ed0>"
      ]
     },
     "execution_count": 87,
     "metadata": {},
     "output_type": "execute_result"
    },
    {
     "data": {
      "image/png": "[encoded data removed]",
      "text/plain": [
       "<Figure size 432x288 with 1 Axes>"
      ]
     },
     "metadata": {
      "needs_background": "light"
     },
     "output_type": "display_data"
    }
   ],
   "source": [
    "plt.plot(y, label='y')\n",
    "plt.plot(y_pred, label='y_pred')\n",
    "plt.legend()"
   ]
  },
  {
   "cell_type": "code",
   "execution_count": 90,
   "metadata": {},
   "outputs": [],
   "source": [
    "X = train_data[['Производительность труда', 'Уровень безработицы', 'Население']].to_numpy()"
   ]
  },
  {
   "cell_type": "code",
   "execution_count": 92,
   "metadata": {},
   "outputs": [],
   "source": [
    "model = LinearRegression()"
   ]
  },
  {
   "cell_type": "code",
   "execution_count": 93,
   "metadata": {},
   "outputs": [
    {
     "data": {
      "text/plain": [
       "LinearRegression(copy_X=True, fit_intercept=True, n_jobs=None, normalize=False)"
      ]
     },
     "execution_count": 93,
     "metadata": {},
     "output_type": "execute_result"
    }
   ],
   "source": [
    "model.fit(X, y)"
   ]
  },
  {
   "cell_type": "code",
   "execution_count": 94,
   "metadata": {},
   "outputs": [],
   "source": [
    "y_pred = model.predict(X)"
   ]
  },
  {
   "cell_type": "code",
   "execution_count": 95,
   "metadata": {},
   "outputs": [
    {
     "data": {
      "text/plain": [
       "<matplotlib.legend.Legend at 0x7f2b2c9b9f50>"
      ]
     },
     "execution_count": 95,
     "metadata": {},
     "output_type": "execute_result"
    },
    {
     "data": {
      "image/png": "[encoded data removed]",
      "text/plain": [
       "<Figure size 432x288 with 1 Axes>"
      ]
     },
     "metadata": {
      "needs_background": "light"
     },
     "output_type": "display_data"
    }
   ],
   "source": [
    "plt.plot(y, label='y')\n",
    "plt.plot(y_pred, label='y_pred')\n",
    "plt.legend()"
   ]
  },
  {
   "cell_type": "code",
   "execution_count": 98,
   "metadata": {},
   "outputs": [
    {
     "data": {
      "text/plain": [
       "0.7997683868012619"
      ]
     },
     "execution_count": 98,
     "metadata": {},
     "output_type": "execute_result"
    }
   ],
   "source": [
    "model.score(X, y)"
   ]
  },
  {
   "cell_type": "markdown",
   "metadata": {},
   "source": [
    "$R^2 = 0.79$, что говорит об удовлетворительном качестве модели"
   ]
  },
  {
   "cell_type": "code",
   "execution_count": null,
   "metadata": {},
   "outputs": [],
   "source": []
  }
 ],
 "metadata": {
  "kernelspec": {
   "display_name": "Python 3",
   "language": "python",
   "name": "python3"
  },
  "language_info": {
   "codemirror_mode": {
    "name": "ipython",
    "version": 3
   },
   "file_extension": ".py",
   "mimetype": "text/x-python",
   "name": "python",
   "nbconvert_exporter": "python",
   "pygments_lexer": "ipython3",
   "version": "3.7.4"
  }
 },
 "nbformat": 4,
 "nbformat_minor": 2
}
