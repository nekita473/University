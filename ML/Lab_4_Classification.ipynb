{
 "cells": [
  {
   "cell_type": "code",
   "execution_count": 1,
   "metadata": {},
   "outputs": [],
   "source": [
    "import pandas as pd\n",
    "from sklearn.model_selection import train_test_split"
   ]
  },
  {
   "cell_type": "code",
   "execution_count": 2,
   "metadata": {},
   "outputs": [],
   "source": [
    "col_names = ['pregnant', 'glucose', 'bp', 'skin', \n",
    "             'insulin', 'bmi', 'pedigree', 'age', 'label']"
   ]
  },
  {
   "cell_type": "code",
   "execution_count": 3,
   "metadata": {},
   "outputs": [],
   "source": [
    "diabetes = pd.read_csv('diabetes.csv', header=None, names=col_names)"
   ]
  },
  {
   "cell_type": "code",
   "execution_count": 4,
   "metadata": {},
   "outputs": [
    {
     "data": {
      "text/html": [
       "<div>\n",
       "<style scoped>\n",
       "    .dataframe tbody tr th:only-of-type {\n",
       "        vertical-align: middle;\n",
       "    }\n",
       "\n",
       "    .dataframe tbody tr th {\n",
       "        vertical-align: top;\n",
       "    }\n",
       "\n",
       "    .dataframe thead th {\n",
       "        text-align: right;\n",
       "    }\n",
       "</style>\n",
       "<table border=\"1\" class=\"dataframe\">\n",
       "  <thead>\n",
       "    <tr style=\"text-align: right;\">\n",
       "      <th></th>\n",
       "      <th>pregnant</th>\n",
       "      <th>glucose</th>\n",
       "      <th>bp</th>\n",
       "      <th>skin</th>\n",
       "      <th>insulin</th>\n",
       "      <th>bmi</th>\n",
       "      <th>pedigree</th>\n",
       "      <th>age</th>\n",
       "      <th>label</th>\n",
       "    </tr>\n",
       "  </thead>\n",
       "  <tbody>\n",
       "    <tr>\n",
       "      <td>0</td>\n",
       "      <td>6</td>\n",
       "      <td>148</td>\n",
       "      <td>72</td>\n",
       "      <td>35</td>\n",
       "      <td>0</td>\n",
       "      <td>33.6</td>\n",
       "      <td>0.627</td>\n",
       "      <td>50</td>\n",
       "      <td>1</td>\n",
       "    </tr>\n",
       "    <tr>\n",
       "      <td>1</td>\n",
       "      <td>1</td>\n",
       "      <td>85</td>\n",
       "      <td>66</td>\n",
       "      <td>29</td>\n",
       "      <td>0</td>\n",
       "      <td>26.6</td>\n",
       "      <td>0.351</td>\n",
       "      <td>31</td>\n",
       "      <td>0</td>\n",
       "    </tr>\n",
       "    <tr>\n",
       "      <td>2</td>\n",
       "      <td>8</td>\n",
       "      <td>183</td>\n",
       "      <td>64</td>\n",
       "      <td>0</td>\n",
       "      <td>0</td>\n",
       "      <td>23.3</td>\n",
       "      <td>0.672</td>\n",
       "      <td>32</td>\n",
       "      <td>1</td>\n",
       "    </tr>\n",
       "    <tr>\n",
       "      <td>3</td>\n",
       "      <td>1</td>\n",
       "      <td>89</td>\n",
       "      <td>66</td>\n",
       "      <td>23</td>\n",
       "      <td>94</td>\n",
       "      <td>28.1</td>\n",
       "      <td>0.167</td>\n",
       "      <td>21</td>\n",
       "      <td>0</td>\n",
       "    </tr>\n",
       "    <tr>\n",
       "      <td>4</td>\n",
       "      <td>0</td>\n",
       "      <td>137</td>\n",
       "      <td>40</td>\n",
       "      <td>35</td>\n",
       "      <td>168</td>\n",
       "      <td>43.1</td>\n",
       "      <td>2.288</td>\n",
       "      <td>33</td>\n",
       "      <td>1</td>\n",
       "    </tr>\n",
       "    <tr>\n",
       "      <td>...</td>\n",
       "      <td>...</td>\n",
       "      <td>...</td>\n",
       "      <td>...</td>\n",
       "      <td>...</td>\n",
       "      <td>...</td>\n",
       "      <td>...</td>\n",
       "      <td>...</td>\n",
       "      <td>...</td>\n",
       "      <td>...</td>\n",
       "    </tr>\n",
       "    <tr>\n",
       "      <td>763</td>\n",
       "      <td>10</td>\n",
       "      <td>101</td>\n",
       "      <td>76</td>\n",
       "      <td>48</td>\n",
       "      <td>180</td>\n",
       "      <td>32.9</td>\n",
       "      <td>0.171</td>\n",
       "      <td>63</td>\n",
       "      <td>0</td>\n",
       "    </tr>\n",
       "    <tr>\n",
       "      <td>764</td>\n",
       "      <td>2</td>\n",
       "      <td>122</td>\n",
       "      <td>70</td>\n",
       "      <td>27</td>\n",
       "      <td>0</td>\n",
       "      <td>36.8</td>\n",
       "      <td>0.340</td>\n",
       "      <td>27</td>\n",
       "      <td>0</td>\n",
       "    </tr>\n",
       "    <tr>\n",
       "      <td>765</td>\n",
       "      <td>5</td>\n",
       "      <td>121</td>\n",
       "      <td>72</td>\n",
       "      <td>23</td>\n",
       "      <td>112</td>\n",
       "      <td>26.2</td>\n",
       "      <td>0.245</td>\n",
       "      <td>30</td>\n",
       "      <td>0</td>\n",
       "    </tr>\n",
       "    <tr>\n",
       "      <td>766</td>\n",
       "      <td>1</td>\n",
       "      <td>126</td>\n",
       "      <td>60</td>\n",
       "      <td>0</td>\n",
       "      <td>0</td>\n",
       "      <td>30.1</td>\n",
       "      <td>0.349</td>\n",
       "      <td>47</td>\n",
       "      <td>1</td>\n",
       "    </tr>\n",
       "    <tr>\n",
       "      <td>767</td>\n",
       "      <td>1</td>\n",
       "      <td>93</td>\n",
       "      <td>70</td>\n",
       "      <td>31</td>\n",
       "      <td>0</td>\n",
       "      <td>30.4</td>\n",
       "      <td>0.315</td>\n",
       "      <td>23</td>\n",
       "      <td>0</td>\n",
       "    </tr>\n",
       "  </tbody>\n",
       "</table>\n",
       "<p>768 rows × 9 columns</p>\n",
       "</div>"
      ],
      "text/plain": [
       "     pregnant  glucose  bp  skin  insulin   bmi  pedigree  age  label\n",
       "0           6      148  72    35        0  33.6     0.627   50      1\n",
       "1           1       85  66    29        0  26.6     0.351   31      0\n",
       "2           8      183  64     0        0  23.3     0.672   32      1\n",
       "3           1       89  66    23       94  28.1     0.167   21      0\n",
       "4           0      137  40    35      168  43.1     2.288   33      1\n",
       "..        ...      ...  ..   ...      ...   ...       ...  ...    ...\n",
       "763        10      101  76    48      180  32.9     0.171   63      0\n",
       "764         2      122  70    27        0  36.8     0.340   27      0\n",
       "765         5      121  72    23      112  26.2     0.245   30      0\n",
       "766         1      126  60     0        0  30.1     0.349   47      1\n",
       "767         1       93  70    31        0  30.4     0.315   23      0\n",
       "\n",
       "[768 rows x 9 columns]"
      ]
     },
     "execution_count": 4,
     "metadata": {},
     "output_type": "execute_result"
    }
   ],
   "source": [
    "diabetes"
   ]
  },
  {
   "cell_type": "code",
   "execution_count": 84,
   "metadata": {},
   "outputs": [],
   "source": [
    "y = diabetes.label\n",
    "X = diabetes.drop(['label'], axis=1)"
   ]
  },
  {
   "cell_type": "code",
   "execution_count": 85,
   "metadata": {},
   "outputs": [],
   "source": [
    "X_train, X_test, y_train, y_test = train_test_split(X, y, test_size=0.2)"
   ]
  },
  {
   "cell_type": "code",
   "execution_count": 7,
   "metadata": {},
   "outputs": [],
   "source": [
    "from sklearn.linear_model import LogisticRegression\n",
    "cls = LogisticRegression()"
   ]
  },
  {
   "cell_type": "code",
   "execution_count": 8,
   "metadata": {},
   "outputs": [
    {
     "name": "stderr",
     "output_type": "stream",
     "text": [
      "/home/nikita4735/anaconda3/lib/python3.7/site-packages/sklearn/linear_model/logistic.py:432: FutureWarning: Default solver will be changed to 'lbfgs' in 0.22. Specify a solver to silence this warning.\n",
      "  FutureWarning)\n"
     ]
    },
    {
     "data": {
      "text/plain": [
       "LogisticRegression(C=1.0, class_weight=None, dual=False, fit_intercept=True,\n",
       "                   intercept_scaling=1, l1_ratio=None, max_iter=100,\n",
       "                   multi_class='warn', n_jobs=None, penalty='l2',\n",
       "                   random_state=None, solver='warn', tol=0.0001, verbose=0,\n",
       "                   warm_start=False)"
      ]
     },
     "execution_count": 8,
     "metadata": {},
     "output_type": "execute_result"
    }
   ],
   "source": [
    "cls.fit(X_train, y_train)"
   ]
  },
  {
   "cell_type": "code",
   "execution_count": 9,
   "metadata": {},
   "outputs": [],
   "source": [
    "y_pred = cls.predict(X_test)"
   ]
  },
  {
   "cell_type": "code",
   "execution_count": 10,
   "metadata": {},
   "outputs": [
    {
     "data": {
      "text/plain": [
       "array([[81, 20],\n",
       "       [25, 28]])"
      ]
     },
     "execution_count": 10,
     "metadata": {},
     "output_type": "execute_result"
    }
   ],
   "source": [
    "from sklearn import metrics\n",
    "metrics.confusion_matrix(y_test, y_pred)"
   ]
  },
  {
   "cell_type": "code",
   "execution_count": 11,
   "metadata": {},
   "outputs": [
    {
     "data": {
      "text/plain": [
       "Text(0.5, 15.0, 'Предсказанные значения')"
      ]
     },
     "execution_count": 11,
     "metadata": {},
     "output_type": "execute_result"
    },
    {
     "data": {
      "image/png": "[encoded data removed]",
      "text/plain": [
       "<Figure size 432x288 with 2 Axes>"
      ]
     },
     "metadata": {
      "needs_background": "light"
     },
     "output_type": "display_data"
    }
   ],
   "source": [
    "import  numpy as np\n",
    "import matplotlib.pyplot as plt\n",
    "import seaborn as sns\n",
    "%matplotlib inline\n",
    " \n",
    "class_names = [0, 1]\n",
    "fig, ax = plt.subplots()\n",
    "ticks = np.arange(len(class_names))\n",
    "plt.xticks(ticks, class_names)\n",
    "plt.yticks(ticks, class_names)\n",
    " \n",
    "sns.heatmap(pd.DataFrame(\n",
    "    metrics.confusion_matrix(y_test, y_pred)),\n",
    "    annot=True)\n",
    "plt.ylabel('Действительные значения')\n",
    "plt.xlabel('Предсказанные значения')"
   ]
  },
  {
   "cell_type": "code",
   "execution_count": 12,
   "metadata": {},
   "outputs": [
    {
     "data": {
      "text/plain": [
       "0.7077922077922078"
      ]
     },
     "execution_count": 12,
     "metadata": {},
     "output_type": "execute_result"
    }
   ],
   "source": [
    "metrics.accuracy_score(y_test, y_pred)"
   ]
  },
  {
   "cell_type": "code",
   "execution_count": 13,
   "metadata": {},
   "outputs": [
    {
     "data": {
      "text/plain": [
       "0.5833333333333334"
      ]
     },
     "execution_count": 13,
     "metadata": {},
     "output_type": "execute_result"
    }
   ],
   "source": [
    "metrics.precision_score(y_test, y_pred)"
   ]
  },
  {
   "cell_type": "code",
   "execution_count": 14,
   "metadata": {},
   "outputs": [
    {
     "data": {
      "text/plain": [
       "0.5283018867924528"
      ]
     },
     "execution_count": 14,
     "metadata": {},
     "output_type": "execute_result"
    }
   ],
   "source": [
    "metrics.recall_score(y_test, y_pred)"
   ]
  },
  {
   "cell_type": "code",
   "execution_count": 15,
   "metadata": {},
   "outputs": [
    {
     "data": {
      "text/plain": [
       "0.5544554455445545"
      ]
     },
     "execution_count": 15,
     "metadata": {},
     "output_type": "execute_result"
    }
   ],
   "source": [
    "metrics.f1_score(y_test, y_pred)"
   ]
  },
  {
   "cell_type": "markdown",
   "metadata": {},
   "source": [
    "Так как метрика f1 всего 0.6, модель не очень хорошо классифицирует данные, в общем и целом модель неплохо работает с 1 классом"
   ]
  },
  {
   "cell_type": "code",
   "execution_count": 16,
   "metadata": {},
   "outputs": [],
   "source": [
    "from sklearn.svm import SVC\n",
    "cls = SVC(kernel='linear')"
   ]
  },
  {
   "cell_type": "code",
   "execution_count": 17,
   "metadata": {},
   "outputs": [
    {
     "data": {
      "text/plain": [
       "SVC(C=1.0, cache_size=200, class_weight=None, coef0=0.0,\n",
       "    decision_function_shape='ovr', degree=3, gamma='auto_deprecated',\n",
       "    kernel='linear', max_iter=-1, probability=False, random_state=None,\n",
       "    shrinking=True, tol=0.001, verbose=False)"
      ]
     },
     "execution_count": 17,
     "metadata": {},
     "output_type": "execute_result"
    }
   ],
   "source": [
    "cls.fit(X_train, y_train)"
   ]
  },
  {
   "cell_type": "code",
   "execution_count": 18,
   "metadata": {},
   "outputs": [],
   "source": [
    "y_pred = cls.predict(X_test)"
   ]
  },
  {
   "cell_type": "code",
   "execution_count": 19,
   "metadata": {},
   "outputs": [
    {
     "data": {
      "text/plain": [
       "0.5454545454545454"
      ]
     },
     "execution_count": 19,
     "metadata": {},
     "output_type": "execute_result"
    }
   ],
   "source": [
    "metrics.f1_score(y_test, y_pred)"
   ]
  },
  {
   "cell_type": "markdown",
   "metadata": {},
   "source": [
    "Метрика f1 возрасла, но всё ещё небольшая"
   ]
  },
  {
   "cell_type": "code",
   "execution_count": 20,
   "metadata": {},
   "outputs": [],
   "source": [
    "import torch\n",
    "from torch import nn"
   ]
  },
  {
   "cell_type": "markdown",
   "metadata": {},
   "source": [
    "Нормализуем фичи"
   ]
  },
  {
   "cell_type": "code",
   "execution_count": 155,
   "metadata": {},
   "outputs": [],
   "source": [
    "X = ((X - X.mean(0))/X.std(0))"
   ]
  },
  {
   "cell_type": "code",
   "execution_count": 156,
   "metadata": {},
   "outputs": [],
   "source": [
    "X_train, X_test, y_train, y_test = train_test_split(X, y, test_size=0.2)"
   ]
  },
  {
   "cell_type": "code",
   "execution_count": 157,
   "metadata": {},
   "outputs": [],
   "source": [
    "# Превратим данные в тензоры\n",
    "X_train = torch.FloatTensor(X_train.to_numpy())\n",
    "y_train = torch.LongTensor(y_train.to_numpy().reshape(-1,1))\n",
    "X_test = torch.FloatTensor(X_test.to_numpy())\n",
    "y_test = torch.LongTensor(y_test.to_numpy().reshape(-1,1))"
   ]
  },
  {
   "cell_type": "markdown",
   "metadata": {},
   "source": [
    "Объявим модель"
   ]
  },
  {
   "cell_type": "code",
   "execution_count": 215,
   "metadata": {},
   "outputs": [],
   "source": [
    "torch.manual_seed(42) \n",
    "np.random.seed(42)\n",
    "model = nn.Sequential(\n",
    "    nn.Linear(X_train.shape[1], 50),\n",
    "    nn.ReLU(),\n",
    "    nn.Dropout(0.5),\n",
    "    nn.BatchNorm1d(50),\n",
    "    \n",
    "    nn.Linear(50, 100),\n",
    "    nn.ReLU(),\n",
    "    nn.Dropout(0.5),\n",
    "    nn.BatchNorm1d(100),\n",
    "    \n",
    "    nn.Linear(100, 200),\n",
    "    nn.ReLU(),\n",
    "    nn.Dropout(0.5),\n",
    "    nn.BatchNorm1d(200),\n",
    "    \n",
    "    nn.Linear(200, 2)\n",
    ")\n",
    "    \n",
    "loss_fn = torch.nn.CrossEntropyLoss()\n",
    "optimizer = torch.optim.Adam(model.parameters(), lr=0.001)"
   ]
  },
  {
   "cell_type": "markdown",
   "metadata": {},
   "source": [
    "Обучающий цикл"
   ]
  },
  {
   "cell_type": "code",
   "execution_count": 216,
   "metadata": {},
   "outputs": [],
   "source": [
    "def train(X_train, y_train, X_test, y_test, num_epoch):\n",
    "    train_losses = []\n",
    "    test_losses = []\n",
    "    y_train = y_train.squeeze_()\n",
    "    y_test = y_test.squeeze_()\n",
    "    for i in range(num_epoch):\n",
    "        model.train(True)\n",
    "        # Посчитаем предсказание и лосс\n",
    "        y_pred = model(X_train)\n",
    "        loss = loss_fn(y_pred, y_train)\n",
    "        # зануляем градиент\n",
    "        optimizer.zero_grad()\n",
    "\n",
    "        # backward\n",
    "        loss.backward()\n",
    "\n",
    "        # ОБНОВЛЯЕМ веса\n",
    "        optimizer.step()\n",
    "        train_losses.append(loss.item())\n",
    "        \n",
    "        # Теперь посчитаем лосс на тесте\n",
    "        model.train(False)\n",
    "        with torch.no_grad():\n",
    "            p_test = model(X_test)\n",
    "            y_test\n",
    "            test_losses.append(loss_fn(p_test, y_test).item())\n",
    "        print('Epoch: ', i+1, 'Loss: ', loss.item())       \n",
    "    return train_losses, test_losses"
   ]
  },
  {
   "cell_type": "code",
   "execution_count": 217,
   "metadata": {},
   "outputs": [
    {
     "name": "stdout",
     "output_type": "stream",
     "text": [
      "Epoch:  1 Loss:  0.778380811214447\n",
      "Epoch:  2 Loss:  0.7427787184715271\n",
      "Epoch:  3 Loss:  0.7300137877464294\n",
      "Epoch:  4 Loss:  0.7105304598808289\n",
      "Epoch:  5 Loss:  0.6728140711784363\n",
      "Epoch:  6 Loss:  0.6470770239830017\n",
      "Epoch:  7 Loss:  0.6412818431854248\n",
      "Epoch:  8 Loss:  0.6865615844726562\n",
      "Epoch:  9 Loss:  0.6665231585502625\n",
      "Epoch:  10 Loss:  0.6353225111961365\n",
      "Epoch:  11 Loss:  0.626880407333374\n",
      "Epoch:  12 Loss:  0.6168286204338074\n",
      "Epoch:  13 Loss:  0.6309725046157837\n",
      "Epoch:  14 Loss:  0.6261119842529297\n",
      "Epoch:  15 Loss:  0.5999100208282471\n",
      "Epoch:  16 Loss:  0.6091107726097107\n",
      "Epoch:  17 Loss:  0.5982733368873596\n",
      "Epoch:  18 Loss:  0.5910252332687378\n",
      "Epoch:  19 Loss:  0.6009562015533447\n",
      "Epoch:  20 Loss:  0.5896185040473938\n",
      "Epoch:  21 Loss:  0.5801253914833069\n",
      "Epoch:  22 Loss:  0.5886536240577698\n",
      "Epoch:  23 Loss:  0.5852970480918884\n",
      "Epoch:  24 Loss:  0.5756074786186218\n",
      "Epoch:  25 Loss:  0.574420154094696\n",
      "Epoch:  26 Loss:  0.5619084239006042\n",
      "Epoch:  27 Loss:  0.5928686857223511\n",
      "Epoch:  28 Loss:  0.5567182898521423\n",
      "Epoch:  29 Loss:  0.572616696357727\n",
      "Epoch:  30 Loss:  0.5762731432914734\n",
      "Epoch:  31 Loss:  0.5332285165786743\n",
      "Epoch:  32 Loss:  0.561276376247406\n",
      "Epoch:  33 Loss:  0.583284854888916\n",
      "Epoch:  34 Loss:  0.5677265524864197\n",
      "Epoch:  35 Loss:  0.535927951335907\n",
      "Epoch:  36 Loss:  0.5638192296028137\n",
      "Epoch:  37 Loss:  0.5587756633758545\n",
      "Epoch:  38 Loss:  0.5612856149673462\n",
      "Epoch:  39 Loss:  0.5571842789649963\n",
      "Epoch:  40 Loss:  0.5460101962089539\n",
      "Epoch:  41 Loss:  0.562982976436615\n",
      "Epoch:  42 Loss:  0.5338719487190247\n",
      "Epoch:  43 Loss:  0.5210704207420349\n",
      "Epoch:  44 Loss:  0.5611932277679443\n",
      "Epoch:  45 Loss:  0.5569310188293457\n",
      "Epoch:  46 Loss:  0.532869815826416\n",
      "Epoch:  47 Loss:  0.5240350961685181\n",
      "Epoch:  48 Loss:  0.5266046524047852\n",
      "Epoch:  49 Loss:  0.5393519997596741\n",
      "Epoch:  50 Loss:  0.5487968325614929\n",
      "Epoch:  51 Loss:  0.5063075423240662\n",
      "Epoch:  52 Loss:  0.5375208258628845\n",
      "Epoch:  53 Loss:  0.5200468897819519\n",
      "Epoch:  54 Loss:  0.5126609206199646\n",
      "Epoch:  55 Loss:  0.5193276405334473\n",
      "Epoch:  56 Loss:  0.5276949405670166\n",
      "Epoch:  57 Loss:  0.5306604504585266\n",
      "Epoch:  58 Loss:  0.5254668593406677\n",
      "Epoch:  59 Loss:  0.49731117486953735\n",
      "Epoch:  60 Loss:  0.5439901947975159\n",
      "Epoch:  61 Loss:  0.511570930480957\n",
      "Epoch:  62 Loss:  0.5210819244384766\n",
      "Epoch:  63 Loss:  0.527862548828125\n",
      "Epoch:  64 Loss:  0.5493464469909668\n",
      "Epoch:  65 Loss:  0.5192278027534485\n",
      "Epoch:  66 Loss:  0.5277737379074097\n",
      "Epoch:  67 Loss:  0.5147550106048584\n",
      "Epoch:  68 Loss:  0.5071009993553162\n",
      "Epoch:  69 Loss:  0.5124739408493042\n",
      "Epoch:  70 Loss:  0.49446308612823486\n",
      "Epoch:  71 Loss:  0.5148687958717346\n",
      "Epoch:  72 Loss:  0.507630467414856\n",
      "Epoch:  73 Loss:  0.5109786987304688\n",
      "Epoch:  74 Loss:  0.5138041377067566\n",
      "Epoch:  75 Loss:  0.5064511299133301\n",
      "Epoch:  76 Loss:  0.5065845251083374\n",
      "Epoch:  77 Loss:  0.49316084384918213\n",
      "Epoch:  78 Loss:  0.5095493197441101\n",
      "Epoch:  79 Loss:  0.5111680626869202\n",
      "Epoch:  80 Loss:  0.5119595527648926\n",
      "Epoch:  81 Loss:  0.5166769623756409\n",
      "Epoch:  82 Loss:  0.5098071098327637\n",
      "Epoch:  83 Loss:  0.48354077339172363\n",
      "Epoch:  84 Loss:  0.5132124423980713\n",
      "Epoch:  85 Loss:  0.4929918944835663\n",
      "Epoch:  86 Loss:  0.49863824248313904\n",
      "Epoch:  87 Loss:  0.4921487867832184\n",
      "Epoch:  88 Loss:  0.4866175949573517\n",
      "Epoch:  89 Loss:  0.49501776695251465\n",
      "Epoch:  90 Loss:  0.49392765760421753\n",
      "Epoch:  91 Loss:  0.4941175580024719\n",
      "Epoch:  92 Loss:  0.48215755820274353\n",
      "Epoch:  93 Loss:  0.489240825176239\n",
      "Epoch:  94 Loss:  0.4967879354953766\n",
      "Epoch:  95 Loss:  0.4868641793727875\n",
      "Epoch:  96 Loss:  0.4804600477218628\n",
      "Epoch:  97 Loss:  0.5157198309898376\n",
      "Epoch:  98 Loss:  0.48102641105651855\n",
      "Epoch:  99 Loss:  0.4761464297771454\n",
      "Epoch:  100 Loss:  0.48546135425567627\n"
     ]
    }
   ],
   "source": [
    "train_losses, test_losses = train(X_train, y_train, X_test, y_test, 100)"
   ]
  },
  {
   "cell_type": "code",
   "execution_count": 218,
   "metadata": {},
   "outputs": [
    {
     "data": {
      "image/png": "[encoded data removed]",
      "text/plain": [
       "<Figure size 432x288 with 1 Axes>"
      ]
     },
     "metadata": {
      "needs_background": "light"
     },
     "output_type": "display_data"
    }
   ],
   "source": [
    "plt.plot(range(len(train_losses)), train_losses, label='train')\n",
    "plt.plot(range(len(test_losses)), test_losses, label='test')\n",
    "plt.legend()\n",
    "plt.show()"
   ]
  },
  {
   "cell_type": "code",
   "execution_count": 219,
   "metadata": {},
   "outputs": [],
   "source": [
    "model.eval()\n",
    "train_pred_labels = model.forward(X_train).max(dim=1).indices\n",
    "test_pred_labels = model.forward(X_test).max(dim=1).indices"
   ]
  },
  {
   "cell_type": "code",
   "execution_count": 220,
   "metadata": {},
   "outputs": [
    {
     "data": {
      "text/plain": [
       "0.6666666666666665"
      ]
     },
     "execution_count": 220,
     "metadata": {},
     "output_type": "execute_result"
    }
   ],
   "source": [
    "metrics.f1_score(y_test, test_pred_labels)"
   ]
  },
  {
   "cell_type": "markdown",
   "metadata": {},
   "source": [
    "Использование полносвязной многослойной нейронной сети повысило f1 до 0.66. Одной из проблем неудовлетворительного качества может являться небольшое количество данных."
   ]
  },
  {
   "cell_type": "code",
   "execution_count": null,
   "metadata": {},
   "outputs": [],
   "source": []
  }
 ],
 "metadata": {
  "kernelspec": {
   "display_name": "Python 3",
   "language": "python",
   "name": "python3"
  },
  "language_info": {
   "codemirror_mode": {
    "name": "ipython",
    "version": 3
   },
   "file_extension": ".py",
   "mimetype": "text/x-python",
   "name": "python",
   "nbconvert_exporter": "python",
   "pygments_lexer": "ipython3",
   "version": "3.7.4"
  }
 },
 "nbformat": 4,
 "nbformat_minor": 2
}
